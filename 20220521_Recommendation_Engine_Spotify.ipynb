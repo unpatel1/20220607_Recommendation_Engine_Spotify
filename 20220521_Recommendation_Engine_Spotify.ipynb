{
 "cells": [
  {
   "cell_type": "markdown",
   "id": "fb8ecfff",
   "metadata": {},
   "source": [
    "# Recommendation Engine - Spotify Project\n",
    "Umesh\n",
    "20220521"
   ]
  },
  {
   "cell_type": "code",
   "execution_count": 1,
   "id": "f25ee9fe",
   "metadata": {},
   "outputs": [],
   "source": [
    "import pandas as pd"
   ]
  },
  {
   "cell_type": "code",
   "execution_count": 2,
   "id": "65cf9ad3",
   "metadata": {},
   "outputs": [],
   "source": [
    "file = r'C:\\Users\\unpat\\_Intellipaat\\00 Live classes\\2022 05 MAY\\20220521 Hands-On Recommendation Spotify\\spotify_data.csv'\n",
    "spot = pd.read_csv(file)"
   ]
  },
  {
   "cell_type": "code",
   "execution_count": 3,
   "id": "bdea864a",
   "metadata": {},
   "outputs": [
    {
     "data": {
      "text/html": [
       "<div>\n",
       "<style scoped>\n",
       "    .dataframe tbody tr th:only-of-type {\n",
       "        vertical-align: middle;\n",
       "    }\n",
       "\n",
       "    .dataframe tbody tr th {\n",
       "        vertical-align: top;\n",
       "    }\n",
       "\n",
       "    .dataframe thead th {\n",
       "        text-align: right;\n",
       "    }\n",
       "</style>\n",
       "<table border=\"1\" class=\"dataframe\">\n",
       "  <thead>\n",
       "    <tr style=\"text-align: right;\">\n",
       "      <th></th>\n",
       "      <th>valence</th>\n",
       "      <th>year</th>\n",
       "      <th>acousticness</th>\n",
       "      <th>artists</th>\n",
       "      <th>danceability</th>\n",
       "      <th>duration_ms</th>\n",
       "      <th>energy</th>\n",
       "      <th>explicit</th>\n",
       "      <th>id</th>\n",
       "      <th>instrumentalness</th>\n",
       "      <th>key</th>\n",
       "      <th>liveness</th>\n",
       "      <th>loudness</th>\n",
       "      <th>mode</th>\n",
       "      <th>name</th>\n",
       "      <th>popularity</th>\n",
       "      <th>release_date</th>\n",
       "      <th>speechiness</th>\n",
       "      <th>tempo</th>\n",
       "    </tr>\n",
       "  </thead>\n",
       "  <tbody>\n",
       "    <tr>\n",
       "      <th>0</th>\n",
       "      <td>0.0594</td>\n",
       "      <td>1921</td>\n",
       "      <td>0.982</td>\n",
       "      <td>['Sergei Rachmaninoff', 'James Levine', 'Berli...</td>\n",
       "      <td>0.279</td>\n",
       "      <td>831667</td>\n",
       "      <td>0.211</td>\n",
       "      <td>0</td>\n",
       "      <td>4BJqT0PrAfrxzMOxytFOIz</td>\n",
       "      <td>0.878</td>\n",
       "      <td>10</td>\n",
       "      <td>0.665</td>\n",
       "      <td>-20.096</td>\n",
       "      <td>1</td>\n",
       "      <td>Piano Concerto No. 3 in D Minor, Op. 30: III. ...</td>\n",
       "      <td>4</td>\n",
       "      <td>1921</td>\n",
       "      <td>0.0366</td>\n",
       "      <td>80.954</td>\n",
       "    </tr>\n",
       "    <tr>\n",
       "      <th>1</th>\n",
       "      <td>0.9630</td>\n",
       "      <td>1921</td>\n",
       "      <td>0.732</td>\n",
       "      <td>['Dennis Day']</td>\n",
       "      <td>0.819</td>\n",
       "      <td>180533</td>\n",
       "      <td>0.341</td>\n",
       "      <td>0</td>\n",
       "      <td>7xPhfUan2yNtyFG0cUWkt8</td>\n",
       "      <td>0.000</td>\n",
       "      <td>7</td>\n",
       "      <td>0.160</td>\n",
       "      <td>-12.441</td>\n",
       "      <td>1</td>\n",
       "      <td>Clancy Lowered the Boom</td>\n",
       "      <td>5</td>\n",
       "      <td>1921</td>\n",
       "      <td>0.4150</td>\n",
       "      <td>60.936</td>\n",
       "    </tr>\n",
       "  </tbody>\n",
       "</table>\n",
       "</div>"
      ],
      "text/plain": [
       "   valence  year  acousticness  \\\n",
       "0   0.0594  1921         0.982   \n",
       "1   0.9630  1921         0.732   \n",
       "\n",
       "                                             artists  danceability  \\\n",
       "0  ['Sergei Rachmaninoff', 'James Levine', 'Berli...         0.279   \n",
       "1                                     ['Dennis Day']         0.819   \n",
       "\n",
       "   duration_ms  energy  explicit                      id  instrumentalness  \\\n",
       "0       831667   0.211         0  4BJqT0PrAfrxzMOxytFOIz             0.878   \n",
       "1       180533   0.341         0  7xPhfUan2yNtyFG0cUWkt8             0.000   \n",
       "\n",
       "   key  liveness  loudness  mode  \\\n",
       "0   10     0.665   -20.096     1   \n",
       "1    7     0.160   -12.441     1   \n",
       "\n",
       "                                                name  popularity release_date  \\\n",
       "0  Piano Concerto No. 3 in D Minor, Op. 30: III. ...           4         1921   \n",
       "1                            Clancy Lowered the Boom           5         1921   \n",
       "\n",
       "   speechiness   tempo  \n",
       "0       0.0366  80.954  \n",
       "1       0.4150  60.936  "
      ]
     },
     "execution_count": 3,
     "metadata": {},
     "output_type": "execute_result"
    }
   ],
   "source": [
    "spot.head(2)"
   ]
  },
  {
   "cell_type": "code",
   "execution_count": 4,
   "id": "d8bec6dd",
   "metadata": {},
   "outputs": [
    {
     "data": {
      "text/html": [
       "<div>\n",
       "<style scoped>\n",
       "    .dataframe tbody tr th:only-of-type {\n",
       "        vertical-align: middle;\n",
       "    }\n",
       "\n",
       "    .dataframe tbody tr th {\n",
       "        vertical-align: top;\n",
       "    }\n",
       "\n",
       "    .dataframe thead th {\n",
       "        text-align: right;\n",
       "    }\n",
       "</style>\n",
       "<table border=\"1\" class=\"dataframe\">\n",
       "  <thead>\n",
       "    <tr style=\"text-align: right;\">\n",
       "      <th></th>\n",
       "      <th>valence</th>\n",
       "      <th>year</th>\n",
       "      <th>acousticness</th>\n",
       "      <th>danceability</th>\n",
       "      <th>duration_ms</th>\n",
       "      <th>energy</th>\n",
       "      <th>explicit</th>\n",
       "      <th>instrumentalness</th>\n",
       "      <th>key</th>\n",
       "      <th>liveness</th>\n",
       "      <th>loudness</th>\n",
       "      <th>mode</th>\n",
       "      <th>popularity</th>\n",
       "      <th>speechiness</th>\n",
       "      <th>tempo</th>\n",
       "    </tr>\n",
       "  </thead>\n",
       "  <tbody>\n",
       "    <tr>\n",
       "      <th>count</th>\n",
       "      <td>170653.000000</td>\n",
       "      <td>170653.000000</td>\n",
       "      <td>170653.000000</td>\n",
       "      <td>170653.000000</td>\n",
       "      <td>1.706530e+05</td>\n",
       "      <td>170653.000000</td>\n",
       "      <td>170653.000000</td>\n",
       "      <td>170653.000000</td>\n",
       "      <td>170653.000000</td>\n",
       "      <td>170653.000000</td>\n",
       "      <td>170653.000000</td>\n",
       "      <td>170653.000000</td>\n",
       "      <td>170653.000000</td>\n",
       "      <td>170653.000000</td>\n",
       "      <td>170653.000000</td>\n",
       "    </tr>\n",
       "    <tr>\n",
       "      <th>mean</th>\n",
       "      <td>0.528587</td>\n",
       "      <td>1976.787241</td>\n",
       "      <td>0.502115</td>\n",
       "      <td>0.537396</td>\n",
       "      <td>2.309483e+05</td>\n",
       "      <td>0.482389</td>\n",
       "      <td>0.084575</td>\n",
       "      <td>0.167010</td>\n",
       "      <td>5.199844</td>\n",
       "      <td>0.205839</td>\n",
       "      <td>-11.467990</td>\n",
       "      <td>0.706902</td>\n",
       "      <td>31.431794</td>\n",
       "      <td>0.098393</td>\n",
       "      <td>116.861590</td>\n",
       "    </tr>\n",
       "    <tr>\n",
       "      <th>std</th>\n",
       "      <td>0.263171</td>\n",
       "      <td>25.917853</td>\n",
       "      <td>0.376032</td>\n",
       "      <td>0.176138</td>\n",
       "      <td>1.261184e+05</td>\n",
       "      <td>0.267646</td>\n",
       "      <td>0.278249</td>\n",
       "      <td>0.313475</td>\n",
       "      <td>3.515094</td>\n",
       "      <td>0.174805</td>\n",
       "      <td>5.697943</td>\n",
       "      <td>0.455184</td>\n",
       "      <td>21.826615</td>\n",
       "      <td>0.162740</td>\n",
       "      <td>30.708533</td>\n",
       "    </tr>\n",
       "    <tr>\n",
       "      <th>min</th>\n",
       "      <td>0.000000</td>\n",
       "      <td>1921.000000</td>\n",
       "      <td>0.000000</td>\n",
       "      <td>0.000000</td>\n",
       "      <td>5.108000e+03</td>\n",
       "      <td>0.000000</td>\n",
       "      <td>0.000000</td>\n",
       "      <td>0.000000</td>\n",
       "      <td>0.000000</td>\n",
       "      <td>0.000000</td>\n",
       "      <td>-60.000000</td>\n",
       "      <td>0.000000</td>\n",
       "      <td>0.000000</td>\n",
       "      <td>0.000000</td>\n",
       "      <td>0.000000</td>\n",
       "    </tr>\n",
       "    <tr>\n",
       "      <th>25%</th>\n",
       "      <td>0.317000</td>\n",
       "      <td>1956.000000</td>\n",
       "      <td>0.102000</td>\n",
       "      <td>0.415000</td>\n",
       "      <td>1.698270e+05</td>\n",
       "      <td>0.255000</td>\n",
       "      <td>0.000000</td>\n",
       "      <td>0.000000</td>\n",
       "      <td>2.000000</td>\n",
       "      <td>0.098800</td>\n",
       "      <td>-14.615000</td>\n",
       "      <td>0.000000</td>\n",
       "      <td>11.000000</td>\n",
       "      <td>0.034900</td>\n",
       "      <td>93.421000</td>\n",
       "    </tr>\n",
       "    <tr>\n",
       "      <th>50%</th>\n",
       "      <td>0.540000</td>\n",
       "      <td>1977.000000</td>\n",
       "      <td>0.516000</td>\n",
       "      <td>0.548000</td>\n",
       "      <td>2.074670e+05</td>\n",
       "      <td>0.471000</td>\n",
       "      <td>0.000000</td>\n",
       "      <td>0.000216</td>\n",
       "      <td>5.000000</td>\n",
       "      <td>0.136000</td>\n",
       "      <td>-10.580000</td>\n",
       "      <td>1.000000</td>\n",
       "      <td>33.000000</td>\n",
       "      <td>0.045000</td>\n",
       "      <td>114.729000</td>\n",
       "    </tr>\n",
       "    <tr>\n",
       "      <th>75%</th>\n",
       "      <td>0.747000</td>\n",
       "      <td>1999.000000</td>\n",
       "      <td>0.893000</td>\n",
       "      <td>0.668000</td>\n",
       "      <td>2.624000e+05</td>\n",
       "      <td>0.703000</td>\n",
       "      <td>0.000000</td>\n",
       "      <td>0.102000</td>\n",
       "      <td>8.000000</td>\n",
       "      <td>0.261000</td>\n",
       "      <td>-7.183000</td>\n",
       "      <td>1.000000</td>\n",
       "      <td>48.000000</td>\n",
       "      <td>0.075600</td>\n",
       "      <td>135.537000</td>\n",
       "    </tr>\n",
       "    <tr>\n",
       "      <th>max</th>\n",
       "      <td>1.000000</td>\n",
       "      <td>2020.000000</td>\n",
       "      <td>0.996000</td>\n",
       "      <td>0.988000</td>\n",
       "      <td>5.403500e+06</td>\n",
       "      <td>1.000000</td>\n",
       "      <td>1.000000</td>\n",
       "      <td>1.000000</td>\n",
       "      <td>11.000000</td>\n",
       "      <td>1.000000</td>\n",
       "      <td>3.855000</td>\n",
       "      <td>1.000000</td>\n",
       "      <td>100.000000</td>\n",
       "      <td>0.970000</td>\n",
       "      <td>243.507000</td>\n",
       "    </tr>\n",
       "  </tbody>\n",
       "</table>\n",
       "</div>"
      ],
      "text/plain": [
       "             valence           year   acousticness   danceability  \\\n",
       "count  170653.000000  170653.000000  170653.000000  170653.000000   \n",
       "mean        0.528587    1976.787241       0.502115       0.537396   \n",
       "std         0.263171      25.917853       0.376032       0.176138   \n",
       "min         0.000000    1921.000000       0.000000       0.000000   \n",
       "25%         0.317000    1956.000000       0.102000       0.415000   \n",
       "50%         0.540000    1977.000000       0.516000       0.548000   \n",
       "75%         0.747000    1999.000000       0.893000       0.668000   \n",
       "max         1.000000    2020.000000       0.996000       0.988000   \n",
       "\n",
       "        duration_ms         energy       explicit  instrumentalness  \\\n",
       "count  1.706530e+05  170653.000000  170653.000000     170653.000000   \n",
       "mean   2.309483e+05       0.482389       0.084575          0.167010   \n",
       "std    1.261184e+05       0.267646       0.278249          0.313475   \n",
       "min    5.108000e+03       0.000000       0.000000          0.000000   \n",
       "25%    1.698270e+05       0.255000       0.000000          0.000000   \n",
       "50%    2.074670e+05       0.471000       0.000000          0.000216   \n",
       "75%    2.624000e+05       0.703000       0.000000          0.102000   \n",
       "max    5.403500e+06       1.000000       1.000000          1.000000   \n",
       "\n",
       "                 key       liveness       loudness           mode  \\\n",
       "count  170653.000000  170653.000000  170653.000000  170653.000000   \n",
       "mean        5.199844       0.205839     -11.467990       0.706902   \n",
       "std         3.515094       0.174805       5.697943       0.455184   \n",
       "min         0.000000       0.000000     -60.000000       0.000000   \n",
       "25%         2.000000       0.098800     -14.615000       0.000000   \n",
       "50%         5.000000       0.136000     -10.580000       1.000000   \n",
       "75%         8.000000       0.261000      -7.183000       1.000000   \n",
       "max        11.000000       1.000000       3.855000       1.000000   \n",
       "\n",
       "          popularity    speechiness          tempo  \n",
       "count  170653.000000  170653.000000  170653.000000  \n",
       "mean       31.431794       0.098393     116.861590  \n",
       "std        21.826615       0.162740      30.708533  \n",
       "min         0.000000       0.000000       0.000000  \n",
       "25%        11.000000       0.034900      93.421000  \n",
       "50%        33.000000       0.045000     114.729000  \n",
       "75%        48.000000       0.075600     135.537000  \n",
       "max       100.000000       0.970000     243.507000  "
      ]
     },
     "execution_count": 4,
     "metadata": {},
     "output_type": "execute_result"
    }
   ],
   "source": [
    "spot.describe()"
   ]
  },
  {
   "cell_type": "code",
   "execution_count": 5,
   "id": "09a1e0ad",
   "metadata": {},
   "outputs": [
    {
     "name": "stdout",
     "output_type": "stream",
     "text": [
      "<class 'pandas.core.frame.DataFrame'>\n",
      "RangeIndex: 170653 entries, 0 to 170652\n",
      "Data columns (total 19 columns):\n",
      " #   Column            Non-Null Count   Dtype  \n",
      "---  ------            --------------   -----  \n",
      " 0   valence           170653 non-null  float64\n",
      " 1   year              170653 non-null  int64  \n",
      " 2   acousticness      170653 non-null  float64\n",
      " 3   artists           170653 non-null  object \n",
      " 4   danceability      170653 non-null  float64\n",
      " 5   duration_ms       170653 non-null  int64  \n",
      " 6   energy            170653 non-null  float64\n",
      " 7   explicit          170653 non-null  int64  \n",
      " 8   id                170653 non-null  object \n",
      " 9   instrumentalness  170653 non-null  float64\n",
      " 10  key               170653 non-null  int64  \n",
      " 11  liveness          170653 non-null  float64\n",
      " 12  loudness          170653 non-null  float64\n",
      " 13  mode              170653 non-null  int64  \n",
      " 14  name              170653 non-null  object \n",
      " 15  popularity        170653 non-null  int64  \n",
      " 16  release_date      170653 non-null  object \n",
      " 17  speechiness       170653 non-null  float64\n",
      " 18  tempo             170653 non-null  float64\n",
      "dtypes: float64(9), int64(6), object(4)\n",
      "memory usage: 24.7+ MB\n"
     ]
    }
   ],
   "source": [
    "spot.info()"
   ]
  },
  {
   "cell_type": "code",
   "execution_count": 6,
   "id": "f333c5e4",
   "metadata": {},
   "outputs": [
    {
     "data": {
      "text/plain": [
       "(170653, 19)"
      ]
     },
     "execution_count": 6,
     "metadata": {},
     "output_type": "execute_result"
    }
   ],
   "source": [
    "spot.shape"
   ]
  },
  {
   "cell_type": "code",
   "execution_count": 7,
   "id": "9ddaf525",
   "metadata": {},
   "outputs": [],
   "source": [
    "# pip install yellowbrick"
   ]
  },
  {
   "cell_type": "code",
   "execution_count": 8,
   "id": "a261d59c",
   "metadata": {},
   "outputs": [],
   "source": [
    "import os\n",
    "import datetime\n",
    "\n",
    "import pandas as pd\n",
    "import numpy as np\n",
    "\n",
    "import matplotlib.pyplot as plt\n",
    "import seaborn as sns\n",
    "import plotly.express as px \n",
    "%matplotlib inline\n",
    "\n",
    "import warnings\n",
    "warnings.filterwarnings('ignore')\n",
    "\n",
    "# Progress bar\n",
    "from tqdm import tqdm\n",
    "\n",
    "# For transformations and predictions\n",
    "from scipy.optimize import curve_fit\n",
    "# from yellowbrick.target import FeatureCorrelation\n",
    "from sklearn.preprocessing import FunctionTransformer\n",
    "from sklearn.preprocessing import StandardScaler\n",
    "from sklearn.preprocessing import OneHotEncoder\n",
    "from sklearn.preprocessing import MinMaxScaler\n",
    "from sklearn.linear_model import LinearRegression\n",
    "from sklearn.cluster import KMeans \n",
    "from sklearn.ensemble import RandomForestRegressor\n",
    "from sklearn.model_selection import GridSearchCV\n",
    "from sklearn.tree import DecisionTreeRegressor\n",
    "\n",
    "# For scoring\n",
    "from sklearn.metrics import mean_squared_error as mse\n",
    "from sklearn.metrics import r2_score,mean_absolute_error\n",
    "\n",
    "# For validation\n",
    "from sklearn.model_selection import train_test_split"
   ]
  },
  {
   "cell_type": "code",
   "execution_count": 9,
   "id": "52e03911",
   "metadata": {},
   "outputs": [],
   "source": [
    "spot['artists'] = spot['artists'].str.replace(\"[\",\"\")"
   ]
  },
  {
   "cell_type": "code",
   "execution_count": 10,
   "id": "a7518b0f",
   "metadata": {},
   "outputs": [],
   "source": [
    "spot['artists'] = spot['artists'].str.replace(\"]\",\"\")"
   ]
  },
  {
   "cell_type": "code",
   "execution_count": 11,
   "id": "c0e82a62",
   "metadata": {},
   "outputs": [],
   "source": [
    "spot['artists'] = spot['artists'].str.replace(\"'\",\"\")"
   ]
  },
  {
   "cell_type": "code",
   "execution_count": 12,
   "id": "21f2398a",
   "metadata": {},
   "outputs": [
    {
     "data": {
      "text/html": [
       "<div>\n",
       "<style scoped>\n",
       "    .dataframe tbody tr th:only-of-type {\n",
       "        vertical-align: middle;\n",
       "    }\n",
       "\n",
       "    .dataframe tbody tr th {\n",
       "        vertical-align: top;\n",
       "    }\n",
       "\n",
       "    .dataframe thead th {\n",
       "        text-align: right;\n",
       "    }\n",
       "</style>\n",
       "<table border=\"1\" class=\"dataframe\">\n",
       "  <thead>\n",
       "    <tr style=\"text-align: right;\">\n",
       "      <th></th>\n",
       "      <th>valence</th>\n",
       "      <th>year</th>\n",
       "      <th>acousticness</th>\n",
       "      <th>artists</th>\n",
       "      <th>danceability</th>\n",
       "      <th>duration_ms</th>\n",
       "      <th>energy</th>\n",
       "      <th>explicit</th>\n",
       "      <th>id</th>\n",
       "      <th>instrumentalness</th>\n",
       "      <th>key</th>\n",
       "      <th>liveness</th>\n",
       "      <th>loudness</th>\n",
       "      <th>mode</th>\n",
       "      <th>name</th>\n",
       "      <th>popularity</th>\n",
       "      <th>release_date</th>\n",
       "      <th>speechiness</th>\n",
       "      <th>tempo</th>\n",
       "    </tr>\n",
       "  </thead>\n",
       "  <tbody>\n",
       "    <tr>\n",
       "      <th>0</th>\n",
       "      <td>0.0594</td>\n",
       "      <td>1921</td>\n",
       "      <td>0.982</td>\n",
       "      <td>Sergei Rachmaninoff, James Levine, Berliner Ph...</td>\n",
       "      <td>0.279</td>\n",
       "      <td>831667</td>\n",
       "      <td>0.211</td>\n",
       "      <td>0</td>\n",
       "      <td>4BJqT0PrAfrxzMOxytFOIz</td>\n",
       "      <td>0.878</td>\n",
       "      <td>10</td>\n",
       "      <td>0.665</td>\n",
       "      <td>-20.096</td>\n",
       "      <td>1</td>\n",
       "      <td>Piano Concerto No. 3 in D Minor, Op. 30: III. ...</td>\n",
       "      <td>4</td>\n",
       "      <td>1921</td>\n",
       "      <td>0.0366</td>\n",
       "      <td>80.954</td>\n",
       "    </tr>\n",
       "    <tr>\n",
       "      <th>1</th>\n",
       "      <td>0.9630</td>\n",
       "      <td>1921</td>\n",
       "      <td>0.732</td>\n",
       "      <td>Dennis Day</td>\n",
       "      <td>0.819</td>\n",
       "      <td>180533</td>\n",
       "      <td>0.341</td>\n",
       "      <td>0</td>\n",
       "      <td>7xPhfUan2yNtyFG0cUWkt8</td>\n",
       "      <td>0.000</td>\n",
       "      <td>7</td>\n",
       "      <td>0.160</td>\n",
       "      <td>-12.441</td>\n",
       "      <td>1</td>\n",
       "      <td>Clancy Lowered the Boom</td>\n",
       "      <td>5</td>\n",
       "      <td>1921</td>\n",
       "      <td>0.4150</td>\n",
       "      <td>60.936</td>\n",
       "    </tr>\n",
       "  </tbody>\n",
       "</table>\n",
       "</div>"
      ],
      "text/plain": [
       "   valence  year  acousticness  \\\n",
       "0   0.0594  1921         0.982   \n",
       "1   0.9630  1921         0.732   \n",
       "\n",
       "                                             artists  danceability  \\\n",
       "0  Sergei Rachmaninoff, James Levine, Berliner Ph...         0.279   \n",
       "1                                         Dennis Day         0.819   \n",
       "\n",
       "   duration_ms  energy  explicit                      id  instrumentalness  \\\n",
       "0       831667   0.211         0  4BJqT0PrAfrxzMOxytFOIz             0.878   \n",
       "1       180533   0.341         0  7xPhfUan2yNtyFG0cUWkt8             0.000   \n",
       "\n",
       "   key  liveness  loudness  mode  \\\n",
       "0   10     0.665   -20.096     1   \n",
       "1    7     0.160   -12.441     1   \n",
       "\n",
       "                                                name  popularity release_date  \\\n",
       "0  Piano Concerto No. 3 in D Minor, Op. 30: III. ...           4         1921   \n",
       "1                            Clancy Lowered the Boom           5         1921   \n",
       "\n",
       "   speechiness   tempo  \n",
       "0       0.0366  80.954  \n",
       "1       0.4150  60.936  "
      ]
     },
     "execution_count": 12,
     "metadata": {},
     "output_type": "execute_result"
    }
   ],
   "source": [
    "spot.head(2)"
   ]
  },
  {
   "cell_type": "markdown",
   "id": "1804571e",
   "metadata": {},
   "source": [
    "**Normalizing all numerical columns**"
   ]
  },
  {
   "cell_type": "code",
   "execution_count": 13,
   "id": "411d1255",
   "metadata": {},
   "outputs": [],
   "source": [
    "def normalize_column(col):\n",
    "    max_d = spot[col].max()\n",
    "    min_d = spot[col].min()\n",
    "    spot[col] = (spot[col] - min_d) / (max_d - min_d)"
   ]
  },
  {
   "cell_type": "code",
   "execution_count": 14,
   "id": "0f289711",
   "metadata": {},
   "outputs": [
    {
     "data": {
      "text/plain": [
       "Index(['valence', 'year', 'acousticness', 'danceability', 'duration_ms',\n",
       "       'energy', 'explicit', 'instrumentalness', 'key', 'liveness', 'loudness',\n",
       "       'mode', 'popularity', 'speechiness', 'tempo'],\n",
       "      dtype='object')"
      ]
     },
     "execution_count": 14,
     "metadata": {},
     "output_type": "execute_result"
    }
   ],
   "source": [
    "numeric_cols = spot.select_dtypes(include = 'number') # returns all numeric columns\n",
    "numeric_cols.columns"
   ]
  },
  {
   "cell_type": "code",
   "execution_count": 15,
   "id": "22fb3091",
   "metadata": {
    "scrolled": true
   },
   "outputs": [],
   "source": [
    "for col in numeric_cols.columns:\n",
    "    normalize_column(col)\n",
    "    # minmaxscalar()"
   ]
  },
  {
   "cell_type": "markdown",
   "id": "0754e98c",
   "metadata": {},
   "source": [
    "**Finding the Optimal Number of Clusters**"
   ]
  },
  {
   "cell_type": "markdown",
   "id": "2b46db99",
   "metadata": {},
   "source": [
    "*Elbow Curve to get the right number of Clusters*\n",
    "\n",
    "A fundamental step for any unsupervised algorithm is to determine the optimal number of clusters into which the data may be clustered. The Elbow Method is one of the most popular methods to determine this optimal value of k."
   ]
  },
  {
   "cell_type": "code",
   "execution_count": 16,
   "id": "1502a930",
   "metadata": {},
   "outputs": [
    {
     "data": {
      "text/plain": [
       "[<matplotlib.lines.Line2D at 0x1eabae6ddc0>]"
      ]
     },
     "execution_count": 16,
     "metadata": {},
     "output_type": "execute_result"
    },
    {
     "data": {
      "image/png": "[encoded data removed]",
      "text/plain": [
       "<Figure size 432x288 with 1 Axes>"
      ]
     },
     "metadata": {
      "needs_background": "light"
     },
     "output_type": "display_data"
    }
   ],
   "source": [
    "# Elbow-curve/SSD\n",
    "# inertia\n",
    "# Sum of squared distances of samples to their closest cluster center.\n",
    "\n",
    "ssd = []\n",
    "range_n_clusters = [2, 3, 4, 5, 6, 7, 8, 9, 10]\n",
    "\n",
    "for num_clusters in range_n_clusters:\n",
    "    kmeans = KMeans(n_clusters = num_clusters, random_state = 42)\n",
    "    kmeans.fit(numeric_cols)\n",
    "    ssd.append(kmeans.inertia_)\n",
    "    \n",
    "# plot the SSDs for each n_clusters\n",
    "default_x_ticks = range(len(range_n_clusters))\n",
    "plt.xticks(default_x_ticks, range_n_clusters)\n",
    "\n",
    "plt.plot(ssd)"
   ]
  },
  {
   "cell_type": "markdown",
   "id": "1ae3b0a0",
   "metadata": {},
   "source": [
    "From the above Elbow curve, it looks like 5, 6 & 7 clusters would give best results. I would consider 6 clusters for my analysis."
   ]
  },
  {
   "cell_type": "code",
   "execution_count": 17,
   "id": "458ad2f8",
   "metadata": {},
   "outputs": [],
   "source": [
    "# k-means\n",
    "km = KMeans(n_clusters = 6, random_state = 42)\n",
    "pred = km.fit_predict(numeric_cols)\n",
    "spot['pred'] = pred\n",
    "normalize_column('pred')"
   ]
  },
  {
   "cell_type": "markdown",
   "id": "0aeb3a1b",
   "metadata": {},
   "source": [
    "### Create recommendation system (using Python logic)"
   ]
  },
  {
   "cell_type": "code",
   "execution_count": 18,
   "id": "90b085d9",
   "metadata": {},
   "outputs": [],
   "source": [
    "# Create recommendation system (using Python logic)\n",
    "\n",
    "class Song_Recommender():\n",
    "    \"\"\"\n",
    "    Neighborhood based collaborative filtering recommendation system using similarity metrics\n",
    "    Manhattan distance is calculated for all songs and recommend songs that are similar to any given song\n",
    "    \"\"\"    \n",
    "    def __init__(self, data):\n",
    "        self.data_ = data\n",
    "\n",
    "    # function which returns recommendations, we can also choose the # of songs to be recommended\n",
    "    def get_recommendations(self, song_name, n_top):\n",
    "        distances = []\n",
    "        \n",
    "        # choosing the given song_name and dropping it from the data\n",
    "        song = self.data_[(self.data_.name.str.lower() == song_name.lower())].head(1).values[0]\n",
    "        rem_data = self.data_[self.data_.name.str.lower() != song_name.lower()]\n",
    "        \n",
    "        for r_song in tqdm(rem_data.values):\n",
    "            dist = 0\n",
    "\n",
    "            for col in np.arange(len(rem_data.columns)):\n",
    "                \n",
    "                #indeces of non-numerical columns(id,Release date,name,artists)\n",
    "                if not col in [3, 8, 14, 16]:\n",
    "                    \n",
    "                    #calculating the Manhettan distances for each numerical feature\n",
    "                    dist = dist + np.absolute(float(song[col]) - float(r_song[col]))\n",
    "            distances.append(dist)\n",
    "\n",
    "        rem_data['distance'] = distances\n",
    "\n",
    "        #sorting our data to be ascending by 'distance' feature\n",
    "        rem_data = rem_data.sort_values('distance')\n",
    "        columns = ['artists', 'name']\n",
    "\n",
    "        return rem_data[columns][:n_top]"
   ]
  },
  {
   "cell_type": "code",
   "execution_count": 19,
   "id": "de2443ad",
   "metadata": {},
   "outputs": [],
   "source": [
    "recommender = Song_Recommender(spot)"
   ]
  },
  {
   "cell_type": "code",
   "execution_count": 20,
   "id": "ae1e8be1",
   "metadata": {},
   "outputs": [
    {
     "name": "stderr",
     "output_type": "stream",
     "text": [
      "100%|███████████████████████████████████████████████████████████████████████| 170652/170652 [00:03<00:00, 43165.51it/s]\n"
     ]
    },
    {
     "data": {
      "text/html": [
       "<div>\n",
       "<style scoped>\n",
       "    .dataframe tbody tr th:only-of-type {\n",
       "        vertical-align: middle;\n",
       "    }\n",
       "\n",
       "    .dataframe tbody tr th {\n",
       "        vertical-align: top;\n",
       "    }\n",
       "\n",
       "    .dataframe thead th {\n",
       "        text-align: right;\n",
       "    }\n",
       "</style>\n",
       "<table border=\"1\" class=\"dataframe\">\n",
       "  <thead>\n",
       "    <tr style=\"text-align: right;\">\n",
       "      <th></th>\n",
       "      <th>artists</th>\n",
       "      <th>name</th>\n",
       "    </tr>\n",
       "  </thead>\n",
       "  <tbody>\n",
       "    <tr>\n",
       "      <th>20161</th>\n",
       "      <td>Hans Pfitzner, Mitglieder der Kapelle der Staa...</td>\n",
       "      <td>Das Christelflein, Op. 20: Overture - Excerpts</td>\n",
       "    </tr>\n",
       "    <tr>\n",
       "      <th>124945</th>\n",
       "      <td>Frédéric Chopin, Alfred Cortot</td>\n",
       "      <td>Ballade No. 1 in G Minor, Op. 23</td>\n",
       "    </tr>\n",
       "    <tr>\n",
       "      <th>93568</th>\n",
       "      <td>Ludwig van Beethoven, Rudolf Serkin, Bruno Walter</td>\n",
       "      <td>Concerto No. 5 in E-Flat Major for Piano and O...</td>\n",
       "    </tr>\n",
       "    <tr>\n",
       "      <th>105</th>\n",
       "      <td>KHP Kridhamardawa Karaton Ngayogyakarta Hadini...</td>\n",
       "      <td>Gati Helmus</td>\n",
       "    </tr>\n",
       "    <tr>\n",
       "      <th>39001</th>\n",
       "      <td>Frédéric Chopin, Vladimir Horowitz</td>\n",
       "      <td>Introduction and Rondo in E-Flat Major, Op. 16...</td>\n",
       "    </tr>\n",
       "    <tr>\n",
       "      <th>41580</th>\n",
       "      <td>Richard Wagner, Arturo Toscanini</td>\n",
       "      <td>Act II: Forest Murmurs</td>\n",
       "    </tr>\n",
       "  </tbody>\n",
       "</table>\n",
       "</div>"
      ],
      "text/plain": [
       "                                                  artists  \\\n",
       "20161   Hans Pfitzner, Mitglieder der Kapelle der Staa...   \n",
       "124945                     Frédéric Chopin, Alfred Cortot   \n",
       "93568   Ludwig van Beethoven, Rudolf Serkin, Bruno Walter   \n",
       "105     KHP Kridhamardawa Karaton Ngayogyakarta Hadini...   \n",
       "39001                  Frédéric Chopin, Vladimir Horowitz   \n",
       "41580                    Richard Wagner, Arturo Toscanini   \n",
       "\n",
       "                                                     name  \n",
       "20161      Das Christelflein, Op. 20: Overture - Excerpts  \n",
       "124945                   Ballade No. 1 in G Minor, Op. 23  \n",
       "93568   Concerto No. 5 in E-Flat Major for Piano and O...  \n",
       "105                                           Gati Helmus  \n",
       "39001   Introduction and Rondo in E-Flat Major, Op. 16...  \n",
       "41580                              Act II: Forest Murmurs  "
      ]
     },
     "execution_count": 20,
     "metadata": {},
     "output_type": "execute_result"
    }
   ],
   "source": [
    "recommender.get_recommendations('Gati Bali', 6)\n",
    "# recommender.get_recommendations('Gati Mrak Ati', 3)\n",
    "# recommender.get_recommendations('Gati Helmus', 5)"
   ]
  },
  {
   "cell_type": "code",
   "execution_count": null,
   "id": "bcb03a2b",
   "metadata": {},
   "outputs": [],
   "source": []
  },
  {
   "cell_type": "code",
   "execution_count": null,
   "id": "489b76fa",
   "metadata": {},
   "outputs": [],
   "source": []
  },
  {
   "cell_type": "code",
   "execution_count": 21,
   "id": "f42df2af",
   "metadata": {},
   "outputs": [],
   "source": [
    "# --- END ---"
   ]
  },
  {
   "cell_type": "code",
   "execution_count": null,
   "id": "b20de008",
   "metadata": {},
   "outputs": [],
   "source": []
  },
  {
   "cell_type": "code",
   "execution_count": null,
   "id": "4faebe10",
   "metadata": {},
   "outputs": [],
   "source": []
  },
  {
   "cell_type": "code",
   "execution_count": null,
   "id": "921cae0b",
   "metadata": {},
   "outputs": [],
   "source": []
  }
 ],
 "metadata": {
  "kernelspec": {
   "display_name": "Python 3 (ipykernel)",
   "language": "python",
   "name": "python3"
  },
  "language_info": {
   "codemirror_mode": {
    "name": "ipython",
    "version": 3
   },
   "file_extension": ".py",
   "mimetype": "text/x-python",
   "name": "python",
   "nbconvert_exporter": "python",
   "pygments_lexer": "ipython3",
   "version": "3.9.7"
  }
 },
 "nbformat": 4,
 "nbformat_minor": 5
}
